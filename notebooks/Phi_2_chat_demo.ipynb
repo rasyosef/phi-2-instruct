{
  "nbformat": 4,
  "nbformat_minor": 0,
  "metadata": {
    "colab": {
      "provenance": [],
      "gpuType": "T4"
    },
    "kernelspec": {
      "name": "python3",
      "display_name": "Python 3"
    },
    "language_info": {
      "name": "python"
    },
    "widgets": {
      "application/vnd.jupyter.widget-state+json": {
        "9e4dab9d64ba4c71bb38b7a3e4a6e107": {
          "model_module": "@jupyter-widgets/controls",
          "model_name": "HBoxModel",
          "model_module_version": "1.5.0",
          "state": {
            "_dom_classes": [],
            "_model_module": "@jupyter-widgets/controls",
            "_model_module_version": "1.5.0",
            "_model_name": "HBoxModel",
            "_view_count": null,
            "_view_module": "@jupyter-widgets/controls",
            "_view_module_version": "1.5.0",
            "_view_name": "HBoxView",
            "box_style": "",
            "children": [
              "IPY_MODEL_cb28b21a733b4291905ad97f3d1ab387",
              "IPY_MODEL_77ba02d3240045b69b33399cd9c92f05",
              "IPY_MODEL_fcf48748688042bcba6240a1e450b84b"
            ],
            "layout": "IPY_MODEL_ef67fb81977041d0b717e211d2725d20"
          }
        },
        "cb28b21a733b4291905ad97f3d1ab387": {
          "model_module": "@jupyter-widgets/controls",
          "model_name": "HTMLModel",
          "model_module_version": "1.5.0",
          "state": {
            "_dom_classes": [],
            "_model_module": "@jupyter-widgets/controls",
            "_model_module_version": "1.5.0",
            "_model_name": "HTMLModel",
            "_view_count": null,
            "_view_module": "@jupyter-widgets/controls",
            "_view_module_version": "1.5.0",
            "_view_name": "HTMLView",
            "description": "",
            "description_tooltip": null,
            "layout": "IPY_MODEL_fff4e98603db41109a2d3bf9c6c0ddfd",
            "placeholder": "​",
            "style": "IPY_MODEL_67397508d8da49a7aaa2ee43a656967e",
            "value": "Loading checkpoint shards: 100%"
          }
        },
        "77ba02d3240045b69b33399cd9c92f05": {
          "model_module": "@jupyter-widgets/controls",
          "model_name": "FloatProgressModel",
          "model_module_version": "1.5.0",
          "state": {
            "_dom_classes": [],
            "_model_module": "@jupyter-widgets/controls",
            "_model_module_version": "1.5.0",
            "_model_name": "FloatProgressModel",
            "_view_count": null,
            "_view_module": "@jupyter-widgets/controls",
            "_view_module_version": "1.5.0",
            "_view_name": "ProgressView",
            "bar_style": "success",
            "description": "",
            "description_tooltip": null,
            "layout": "IPY_MODEL_88a330bdd2204606988d903488f2e798",
            "max": 2,
            "min": 0,
            "orientation": "horizontal",
            "style": "IPY_MODEL_fe9f7fb9c5104dedbc3b573390b85ef3",
            "value": 2
          }
        },
        "fcf48748688042bcba6240a1e450b84b": {
          "model_module": "@jupyter-widgets/controls",
          "model_name": "HTMLModel",
          "model_module_version": "1.5.0",
          "state": {
            "_dom_classes": [],
            "_model_module": "@jupyter-widgets/controls",
            "_model_module_version": "1.5.0",
            "_model_name": "HTMLModel",
            "_view_count": null,
            "_view_module": "@jupyter-widgets/controls",
            "_view_module_version": "1.5.0",
            "_view_name": "HTMLView",
            "description": "",
            "description_tooltip": null,
            "layout": "IPY_MODEL_913b718070cb4cbd9016879466ae61d7",
            "placeholder": "​",
            "style": "IPY_MODEL_3bd4b492c6574706bf9373433c555cb6",
            "value": " 2/2 [00:17&lt;00:00,  7.67s/it]"
          }
        },
        "ef67fb81977041d0b717e211d2725d20": {
          "model_module": "@jupyter-widgets/base",
          "model_name": "LayoutModel",
          "model_module_version": "1.2.0",
          "state": {
            "_model_module": "@jupyter-widgets/base",
            "_model_module_version": "1.2.0",
            "_model_name": "LayoutModel",
            "_view_count": null,
            "_view_module": "@jupyter-widgets/base",
            "_view_module_version": "1.2.0",
            "_view_name": "LayoutView",
            "align_content": null,
            "align_items": null,
            "align_self": null,
            "border": null,
            "bottom": null,
            "display": null,
            "flex": null,
            "flex_flow": null,
            "grid_area": null,
            "grid_auto_columns": null,
            "grid_auto_flow": null,
            "grid_auto_rows": null,
            "grid_column": null,
            "grid_gap": null,
            "grid_row": null,
            "grid_template_areas": null,
            "grid_template_columns": null,
            "grid_template_rows": null,
            "height": null,
            "justify_content": null,
            "justify_items": null,
            "left": null,
            "margin": null,
            "max_height": null,
            "max_width": null,
            "min_height": null,
            "min_width": null,
            "object_fit": null,
            "object_position": null,
            "order": null,
            "overflow": null,
            "overflow_x": null,
            "overflow_y": null,
            "padding": null,
            "right": null,
            "top": null,
            "visibility": null,
            "width": null
          }
        },
        "fff4e98603db41109a2d3bf9c6c0ddfd": {
          "model_module": "@jupyter-widgets/base",
          "model_name": "LayoutModel",
          "model_module_version": "1.2.0",
          "state": {
            "_model_module": "@jupyter-widgets/base",
            "_model_module_version": "1.2.0",
            "_model_name": "LayoutModel",
            "_view_count": null,
            "_view_module": "@jupyter-widgets/base",
            "_view_module_version": "1.2.0",
            "_view_name": "LayoutView",
            "align_content": null,
            "align_items": null,
            "align_self": null,
            "border": null,
            "bottom": null,
            "display": null,
            "flex": null,
            "flex_flow": null,
            "grid_area": null,
            "grid_auto_columns": null,
            "grid_auto_flow": null,
            "grid_auto_rows": null,
            "grid_column": null,
            "grid_gap": null,
            "grid_row": null,
            "grid_template_areas": null,
            "grid_template_columns": null,
            "grid_template_rows": null,
            "height": null,
            "justify_content": null,
            "justify_items": null,
            "left": null,
            "margin": null,
            "max_height": null,
            "max_width": null,
            "min_height": null,
            "min_width": null,
            "object_fit": null,
            "object_position": null,
            "order": null,
            "overflow": null,
            "overflow_x": null,
            "overflow_y": null,
            "padding": null,
            "right": null,
            "top": null,
            "visibility": null,
            "width": null
          }
        },
        "67397508d8da49a7aaa2ee43a656967e": {
          "model_module": "@jupyter-widgets/controls",
          "model_name": "DescriptionStyleModel",
          "model_module_version": "1.5.0",
          "state": {
            "_model_module": "@jupyter-widgets/controls",
            "_model_module_version": "1.5.0",
            "_model_name": "DescriptionStyleModel",
            "_view_count": null,
            "_view_module": "@jupyter-widgets/base",
            "_view_module_version": "1.2.0",
            "_view_name": "StyleView",
            "description_width": ""
          }
        },
        "88a330bdd2204606988d903488f2e798": {
          "model_module": "@jupyter-widgets/base",
          "model_name": "LayoutModel",
          "model_module_version": "1.2.0",
          "state": {
            "_model_module": "@jupyter-widgets/base",
            "_model_module_version": "1.2.0",
            "_model_name": "LayoutModel",
            "_view_count": null,
            "_view_module": "@jupyter-widgets/base",
            "_view_module_version": "1.2.0",
            "_view_name": "LayoutView",
            "align_content": null,
            "align_items": null,
            "align_self": null,
            "border": null,
            "bottom": null,
            "display": null,
            "flex": null,
            "flex_flow": null,
            "grid_area": null,
            "grid_auto_columns": null,
            "grid_auto_flow": null,
            "grid_auto_rows": null,
            "grid_column": null,
            "grid_gap": null,
            "grid_row": null,
            "grid_template_areas": null,
            "grid_template_columns": null,
            "grid_template_rows": null,
            "height": null,
            "justify_content": null,
            "justify_items": null,
            "left": null,
            "margin": null,
            "max_height": null,
            "max_width": null,
            "min_height": null,
            "min_width": null,
            "object_fit": null,
            "object_position": null,
            "order": null,
            "overflow": null,
            "overflow_x": null,
            "overflow_y": null,
            "padding": null,
            "right": null,
            "top": null,
            "visibility": null,
            "width": null
          }
        },
        "fe9f7fb9c5104dedbc3b573390b85ef3": {
          "model_module": "@jupyter-widgets/controls",
          "model_name": "ProgressStyleModel",
          "model_module_version": "1.5.0",
          "state": {
            "_model_module": "@jupyter-widgets/controls",
            "_model_module_version": "1.5.0",
            "_model_name": "ProgressStyleModel",
            "_view_count": null,
            "_view_module": "@jupyter-widgets/base",
            "_view_module_version": "1.2.0",
            "_view_name": "StyleView",
            "bar_color": null,
            "description_width": ""
          }
        },
        "913b718070cb4cbd9016879466ae61d7": {
          "model_module": "@jupyter-widgets/base",
          "model_name": "LayoutModel",
          "model_module_version": "1.2.0",
          "state": {
            "_model_module": "@jupyter-widgets/base",
            "_model_module_version": "1.2.0",
            "_model_name": "LayoutModel",
            "_view_count": null,
            "_view_module": "@jupyter-widgets/base",
            "_view_module_version": "1.2.0",
            "_view_name": "LayoutView",
            "align_content": null,
            "align_items": null,
            "align_self": null,
            "border": null,
            "bottom": null,
            "display": null,
            "flex": null,
            "flex_flow": null,
            "grid_area": null,
            "grid_auto_columns": null,
            "grid_auto_flow": null,
            "grid_auto_rows": null,
            "grid_column": null,
            "grid_gap": null,
            "grid_row": null,
            "grid_template_areas": null,
            "grid_template_columns": null,
            "grid_template_rows": null,
            "height": null,
            "justify_content": null,
            "justify_items": null,
            "left": null,
            "margin": null,
            "max_height": null,
            "max_width": null,
            "min_height": null,
            "min_width": null,
            "object_fit": null,
            "object_position": null,
            "order": null,
            "overflow": null,
            "overflow_x": null,
            "overflow_y": null,
            "padding": null,
            "right": null,
            "top": null,
            "visibility": null,
            "width": null
          }
        },
        "3bd4b492c6574706bf9373433c555cb6": {
          "model_module": "@jupyter-widgets/controls",
          "model_name": "DescriptionStyleModel",
          "model_module_version": "1.5.0",
          "state": {
            "_model_module": "@jupyter-widgets/controls",
            "_model_module_version": "1.5.0",
            "_model_name": "DescriptionStyleModel",
            "_view_count": null,
            "_view_module": "@jupyter-widgets/base",
            "_view_module_version": "1.2.0",
            "_view_name": "StyleView",
            "description_width": ""
          }
        }
      }
    },
    "accelerator": "GPU"
  },
  "cells": [
    {
      "cell_type": "code",
      "source": [
        "! pip install --quiet gradio==4.38.1"
      ],
      "metadata": {
        "id": "pSj_cJfppPvE"
      },
      "execution_count": 1,
      "outputs": []
    },
    {
      "cell_type": "code",
      "source": [
        "import torch\n",
        "from transformers import AutoTokenizer, AutoModelForCausalLM\n",
        "\n",
        "DEVICE = \"cpu\"\n",
        "if torch.cuda.is_available():\n",
        "  DEVICE = \"cuda\"\n",
        "\n",
        "# The huggingface model id for phi-2 instruct model\n",
        "checkpoint = \"rasyosef/phi-2-instruct-v0.1\"\n",
        "\n",
        "# Download and load model and tokenizer\n",
        "tokenizer = AutoTokenizer.from_pretrained(checkpoint)\n",
        "model = AutoModelForCausalLM.from_pretrained(\n",
        "    checkpoint,\n",
        "    torch_dtype=torch.float16,\n",
        "    device_map=DEVICE\n",
        "  )"
      ],
      "metadata": {
        "colab": {
          "base_uri": "https://localhost:8080/",
          "height": 173,
          "referenced_widgets": [
            "9e4dab9d64ba4c71bb38b7a3e4a6e107",
            "cb28b21a733b4291905ad97f3d1ab387",
            "77ba02d3240045b69b33399cd9c92f05",
            "fcf48748688042bcba6240a1e450b84b",
            "ef67fb81977041d0b717e211d2725d20",
            "fff4e98603db41109a2d3bf9c6c0ddfd",
            "67397508d8da49a7aaa2ee43a656967e",
            "88a330bdd2204606988d903488f2e798",
            "fe9f7fb9c5104dedbc3b573390b85ef3",
            "913b718070cb4cbd9016879466ae61d7",
            "3bd4b492c6574706bf9373433c555cb6"
          ]
        },
        "id": "E7krxty7QURy",
        "outputId": "eaa70642-fbc8-411f-a1da-c37ec23dc4c7"
      },
      "execution_count": 2,
      "outputs": [
        {
          "output_type": "stream",
          "name": "stderr",
          "text": [
            "/usr/local/lib/python3.10/dist-packages/huggingface_hub/utils/_token.py:81: UserWarning: \n",
            "Access to the secret `HF_TOKEN` has not been granted on this notebook.\n",
            "You will not be requested again.\n",
            "Please restart the session if you want to be prompted again.\n",
            "  warnings.warn(\n",
            "Special tokens have been added in the vocabulary, make sure the associated word embeddings are fine-tuned or trained.\n"
          ]
        },
        {
          "output_type": "display_data",
          "data": {
            "text/plain": [
              "Loading checkpoint shards:   0%|          | 0/2 [00:00<?, ?it/s]"
            ],
            "application/vnd.jupyter.widget-view+json": {
              "version_major": 2,
              "version_minor": 0,
              "model_id": "9e4dab9d64ba4c71bb38b7a3e4a6e107"
            }
          },
          "metadata": {}
        }
      ]
    },
    {
      "cell_type": "code",
      "execution_count": 3,
      "metadata": {
        "colab": {
          "base_uri": "https://localhost:8080/",
          "height": 680
        },
        "id": "GYvJS_LDXoU0",
        "outputId": "fe31593a-1bb9-4be6-e9f3-952300aea784"
      },
      "outputs": [
        {
          "output_type": "stream",
          "name": "stdout",
          "text": [
            "Setting queue=True in a Colab notebook requires sharing enabled. Setting `share=True` (you can turn this off by setting `share=False` in `launch()` explicitly).\n",
            "\n",
            "Colab notebook detected. This cell will run indefinitely so that you can see errors and logs. To turn off, set debug=False in launch().\n",
            "Running on public URL: https://c7e480f0760bf834a7.gradio.live\n",
            "\n",
            "This share link expires in 72 hours. For free permanent hosting and GPU upgrades, run `gradio deploy` from Terminal to deploy to Spaces (https://huggingface.co/spaces)\n"
          ]
        },
        {
          "output_type": "display_data",
          "data": {
            "text/plain": [
              "<IPython.core.display.HTML object>"
            ],
            "text/html": [
              "<div><iframe src=\"https://c7e480f0760bf834a7.gradio.live\" width=\"100%\" height=\"500\" allow=\"autoplay; camera; microphone; clipboard-read; clipboard-write;\" frameborder=\"0\" allowfullscreen></iframe></div>"
            ]
          },
          "metadata": {}
        },
        {
          "output_type": "stream",
          "name": "stdout",
          "text": [
            "Keyboard interruption in main thread... closing server.\n",
            "Killing tunnel 127.0.0.1:7860 <> https://c7e480f0760bf834a7.gradio.live\n"
          ]
        },
        {
          "output_type": "execute_result",
          "data": {
            "text/plain": []
          },
          "metadata": {},
          "execution_count": 3
        }
      ],
      "source": [
        "from transformers import TextIteratorStreamer, pipeline\n",
        "from threading import Thread\n",
        "import gradio as gr\n",
        "\n",
        "# Text generation pipeline\n",
        "phi2 = pipeline(\n",
        "    \"text-generation\",\n",
        "    tokenizer=tokenizer,\n",
        "    model=model,\n",
        "    pad_token_id=tokenizer.eos_token_id,\n",
        "    eos_token_id=[tokenizer.eos_token_id],\n",
        "    device_map=DEVICE\n",
        ")\n",
        "\n",
        "# Function that accepts a prompt and generates text using the phi2 pipeline\n",
        "def generate(message, chat_history, max_new_tokens=64):\n",
        "\n",
        "  history = [\n",
        "      {\"role\": \"system\", \"content\": \"You are Phi, a helpful AI assistant made by Microsoft and RasYosef. User will you give you a task. Your goal is to complete the task as faithfully as you can.\"}\n",
        "  ]\n",
        "\n",
        "  for sent, received in chat_history:\n",
        "    history.append({\"role\": \"user\", \"content\": sent})\n",
        "    history.append({\"role\": \"assistant\", \"content\": received})\n",
        "\n",
        "  history.append({\"role\": \"user\", \"content\": message})\n",
        "  #print(history)\n",
        "\n",
        "  if len(tokenizer.apply_chat_template(history)) > 768:\n",
        "    yield \"chat history is too long\"\n",
        "  else:\n",
        "    # Streamer\n",
        "    streamer = TextIteratorStreamer(tokenizer=tokenizer, skip_prompt=True, skip_special_tokens=True, timeout=300.0)\n",
        "    thread = Thread(target=phi2, kwargs={\"text_inputs\":history, \"max_new_tokens\":max_new_tokens, \"streamer\":streamer})\n",
        "    thread.start()\n",
        "\n",
        "    generated_text = \"\"\n",
        "    for word in streamer:\n",
        "      generated_text += word\n",
        "      response = generated_text.strip()\n",
        "\n",
        "      yield response\n",
        "\n",
        "# Chat interface with gradio\n",
        "with gr.Blocks() as demo:\n",
        "  gr.Markdown(\"\"\"\n",
        "  # Phi-2 Chatbot Demo\n",
        "  This chatbot was created using a finetuned version of Microsoft's 2.7 billion parameter Phi 2 transformer model, [Phi-2-Instruct-v0.1](https://huggingface.co/rasyosef/Phi-1_5-Instruct-v0.1) that has underwent a post-training process that incorporates both **supervised fine-tuning** and **direct preference optimization** for instruction following.\n",
        "  \"\"\")\n",
        "\n",
        "  tokens_slider = gr.Slider(8, 256, value=64, label=\"Maximum new tokens\", info=\"A larger `max_new_tokens` parameter value gives you longer text responses but at the cost of a slower response time.\")\n",
        "\n",
        "  chatbot = gr.ChatInterface(\n",
        "    chatbot=gr.Chatbot(height=400),\n",
        "    fn=generate,\n",
        "    additional_inputs=[tokens_slider],\n",
        "    stop_btn=None,\n",
        "    examples=[\n",
        "        [\"Hi\"], [\"hello\"],\n",
        "        [\"Translate the word 'cat' to German.\"],\n",
        "        [\"Recommend me three animated movies.\"],\n",
        "        [\"Solve this quadratic equation.\\n\\nx^2 + 3x + 2 = 0\\nwhat is the value of x?\"],\n",
        "        [\"Implement Euclid's GCD Algorithm in python\"],\n",
        "        [\"Write a python program that computes the least common multiple (lcm) of two positive integers. Format the code in markdown.\"],\n",
        "        [\"Molly and Abigail want to attend a beauty and modeling contest. They both want to buy new pairs of shoes and dresses. Molly buys a pair of shoes which costs $40 and a dress which costs $160. How much should Abigail budget if she wants to spend half of what Molly spent on the pair of shoes and dress?\"],\n",
        "      ]\n",
        "  )\n",
        "\n",
        "demo.queue().launch(debug=True)"
      ]
    },
    {
      "cell_type": "code",
      "source": [],
      "metadata": {
        "id": "TI16T6Pmanvz"
      },
      "execution_count": 6,
      "outputs": []
    }
  ]
}