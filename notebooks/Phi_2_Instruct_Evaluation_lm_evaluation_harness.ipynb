{
  "nbformat": 4,
  "nbformat_minor": 0,
  "metadata": {
    "colab": {
      "provenance": [],
      "gpuType": "T4"
    },
    "kernelspec": {
      "name": "python3",
      "display_name": "Python 3"
    },
    "language_info": {
      "name": "python"
    },
    "accelerator": "GPU"
  },
  "cells": [
    {
      "cell_type": "code",
      "source": [
        "! nvidia-smi"
      ],
      "metadata": {
        "id": "nibeza4AyuMS"
      },
      "execution_count": null,
      "outputs": []
    },
    {
      "cell_type": "markdown",
      "source": [
        "### **Setup**"
      ],
      "metadata": {
        "id": "9xlUSeXGTKPy"
      }
    },
    {
      "cell_type": "code",
      "source": [
        "! pip install --quiet torch==2.3.1 transformers accelerate peft"
      ],
      "metadata": {
        "id": "nNLExBXx3lz3"
      },
      "execution_count": null,
      "outputs": []
    },
    {
      "cell_type": "code",
      "execution_count": null,
      "metadata": {
        "id": "dcSMW_-tzMqp"
      },
      "outputs": [],
      "source": [
        "! pip install --quiet langdetect immutabledict\n",
        "! git clone https://github.com/EleutherAI/lm-evaluation-harness\n",
        "! pip install --quiet -e ./lm-evaluation-harness"
      ]
    },
    {
      "cell_type": "markdown",
      "source": [
        "### **Benchmarks**"
      ],
      "metadata": {
        "id": "0LL504cfUH2p"
      }
    },
    {
      "cell_type": "code",
      "source": [
        "# !lm-eval --tasks list"
      ],
      "metadata": {
        "id": "HJbYSZBa2inz"
      },
      "execution_count": null,
      "outputs": []
    },
    {
      "cell_type": "markdown",
      "source": [
        "### **1. MMLU**"
      ],
      "metadata": {
        "id": "tj0T2zuZqvL8"
      }
    },
    {
      "cell_type": "code",
      "source": [
        "! lm_eval --model hf \\\n",
        "    --model_args pretrained=rasyosef/phi-2-instruct-v0.1 \\\n",
        "    --tasks mmlu \\\n",
        "    --num_fewshot=5 \\\n",
        "    --device cuda:0 \\\n",
        "    --batch_size 2 \\\n",
        "    --apply_chat_template"
      ],
      "metadata": {
        "id": "X_gT_uSBKr6W"
      },
      "execution_count": null,
      "outputs": []
    },
    {
      "cell_type": "markdown",
      "source": [
        "### **2. IFEval**"
      ],
      "metadata": {
        "id": "KYZpu1BpzYOk"
      }
    },
    {
      "cell_type": "code",
      "source": [
        "! lm_eval --model hf \\\n",
        "    --model_args pretrained=rasyosef/phi-2-instruct-v0.1 \\\n",
        "    --tasks ifeval \\\n",
        "    --device cuda:0 \\\n",
        "    --batch_size 8 \\\n",
        "    --apply_chat_template"
      ],
      "metadata": {
        "id": "q_odEU8tzhrK"
      },
      "execution_count": null,
      "outputs": []
    },
    {
      "cell_type": "markdown",
      "source": [
        "### **3. GSM8K**"
      ],
      "metadata": {
        "id": "nAhyXEnUvwhS"
      }
    },
    {
      "cell_type": "code",
      "source": [
        "! lm_eval --model hf \\\n",
        "    --model_args pretrained=rasyosef/phi-2-instruct-v0.1 \\\n",
        "    --tasks gsm8k \\\n",
        "    --device cuda:0 \\\n",
        "    --batch_size 8 \\\n",
        "    --apply_chat_template"
      ],
      "metadata": {
        "id": "X9XZRt-bpijD"
      },
      "execution_count": null,
      "outputs": []
    },
    {
      "cell_type": "markdown",
      "source": [
        "### **4. Winogrande**"
      ],
      "metadata": {
        "id": "xxurufVszxdq"
      }
    },
    {
      "cell_type": "code",
      "source": [
        "! lm_eval --model hf \\\n",
        "    --model_args pretrained=rasyosef/phi-2-instruct-v0.1 \\\n",
        "    --tasks winogrande \\\n",
        "    --num_fewshot=5 \\\n",
        "    --device cuda:0 \\\n",
        "    --batch_size 8 \\\n",
        "    --apply_chat_template"
      ],
      "metadata": {
        "id": "FJohbdt6UOi8"
      },
      "execution_count": null,
      "outputs": []
    },
    {
      "cell_type": "markdown",
      "source": [
        "### **5. TruthfulQA mc2**"
      ],
      "metadata": {
        "id": "3yI0F2sUz-gL"
      }
    },
    {
      "cell_type": "code",
      "source": [
        "! lm_eval --model hf \\\n",
        "    --model_args pretrained=rasyosef/phi-2-instruct-v0.1 \\\n",
        "    --tasks truthfulqa_mc2 \\\n",
        "    --device cuda:0 \\\n",
        "    --batch_size 8 \\\n",
        "    --apply_chat_template"
      ],
      "metadata": {
        "id": "SOWkuo4e6HAq"
      },
      "execution_count": null,
      "outputs": []
    },
    {
      "cell_type": "code",
      "source": [],
      "metadata": {
        "id": "3Bi3AC8t34-D"
      },
      "execution_count": null,
      "outputs": []
    }
  ]
}